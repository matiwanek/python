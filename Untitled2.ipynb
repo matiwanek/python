{
 "cells": [
  {
   "cell_type": "code",
   "execution_count": 1,
   "id": "9c5848b4",
   "metadata": {},
   "outputs": [],
   "source": [
    "def start_game():\n",
    "    startgry = \"string\"\n",
    "    while startgry != \"start\":\n",
    "        startgry = input(\"To start a game write start \").lower()\n",
    "        if startgry == \"start\": \n",
    "            print('Game is starting!')\n",
    "            return True\n",
    "        else:\n",
    "            print('Wrong key to start!')\n",
    "    "
   ]
  },
  {
   "cell_type": "code",
   "execution_count": 2,
   "id": "bc4442c5",
   "metadata": {},
   "outputs": [],
   "source": [
    "from IPython.display import clear_output\n"
   ]
  },
  {
   "cell_type": "code",
   "execution_count": 3,
   "id": "3a2f38bf",
   "metadata": {},
   "outputs": [],
   "source": [
    "def display_board(board):\n",
    "    \n",
    "    print(' ___','___','___')\n",
    "    print('| '+ board[1] +' | '+ board[2] +' | '+ board[3] +' | ')\n",
    "    print(' ___','___','___')\n",
    "    print('| '+ board[4] +' | '+ board[5] +' | '+ board[6] +' | ')\n",
    "    print(' ___','___','___')\n",
    "    print('| '+ board[7] +' | '+ board[8] +' | '+ board[9] +' | ')\n",
    "    print(' ___','___','___')"
   ]
  },
  {
   "cell_type": "code",
   "execution_count": 4,
   "id": "ed1f8c12",
   "metadata": {
    "scrolled": true
   },
   "outputs": [
    {
     "name": "stdout",
     "output_type": "stream",
     "text": [
      " ___ ___ ___\n",
      "|   |   | X | \n",
      " ___ ___ ___\n",
      "| O | X | O | \n",
      " ___ ___ ___\n",
      "| X | O | X | \n",
      " ___ ___ ___\n"
     ]
    }
   ],
   "source": [
    "test_board = ['#',' ',' ','X','O','X','O','X','O','X']\n",
    "display_board(test_board)"
   ]
  },
  {
   "cell_type": "code",
   "execution_count": 5,
   "id": "ef0cb3fd",
   "metadata": {},
   "outputs": [],
   "source": [
    "def game_choice():\n",
    "    choice = \"a\"\n",
    "    while choice not in ('X','O'):\n",
    "        choice = input(\" Player 1: Choose your marker X or O\").upper()\n",
    "        if choice in ('X','O'):\n",
    "            if choice == \"X\":\n",
    "                return ('X', 'O')\n",
    "            else:\n",
    "                return ('O', 'X')\n",
    "            print(f'Your marker is {choice}')\n",
    "    else:\n",
    "        print('You can only choose X or O as your marker!')"
   ]
  },
  {
   "cell_type": "code",
   "execution_count": 6,
   "id": "6e742c51",
   "metadata": {},
   "outputs": [],
   "source": [
    "def marker_place(board,marker,choi):\n",
    "    board[choi] = marker\n",
    "    "
   ]
  },
  {
   "cell_type": "code",
   "execution_count": 7,
   "id": "1d5adcbc",
   "metadata": {},
   "outputs": [],
   "source": [
    "def win_check(board, mark):\n",
    "    return ((board[7] == mark and board[8] == mark and board[9] == mark) or\n",
    "    (board[4] == mark and board[5] == mark and board[6] == mark) or\n",
    "    (board[1] == mark and board[2] == mark and board[3] == mark) or\n",
    "    (board[7] == mark and board[4] == mark and board[1] == mark) or\n",
    "    (board[8] == mark and board[5] == mark and board[2] == mark) or\n",
    "    (board[9] == mark and board[6] == mark and board[3] == mark) or\n",
    "    (board[7] == mark and board[5] == mark and board[3] == mark) or \n",
    "    (board[9] == mark and board[5] == mark and board[1] == mark)) \n",
    "    \n",
    "    pass"
   ]
  },
  {
   "cell_type": "code",
   "execution_count": 8,
   "id": "94c5ce1e",
   "metadata": {},
   "outputs": [],
   "source": [
    "import random\n",
    "\n",
    "def whos_first():\n",
    "    lista=['Player1','Player2']\n",
    "    los = random.choice(lista)\n",
    "    print(f'{los} is starting')\n",
    "    return los"
   ]
  },
  {
   "cell_type": "code",
   "execution_count": 9,
   "id": "f04c5293",
   "metadata": {},
   "outputs": [],
   "source": [
    "def space_check(board,choi):\n",
    "    return board[choi] == ' '"
   ]
  },
  {
   "cell_type": "code",
   "execution_count": 10,
   "id": "24ab667d",
   "metadata": {},
   "outputs": [],
   "source": [
    "def full_check(board):\n",
    "    for i in range(1,10):\n",
    "        if space_check(board, i):\n",
    "            return False\n",
    "    return True"
   ]
  },
  {
   "cell_type": "code",
   "execution_count": 11,
   "id": "09c85ead",
   "metadata": {},
   "outputs": [
    {
     "data": {
      "text/plain": [
       "False"
      ]
     },
     "execution_count": 11,
     "metadata": {},
     "output_type": "execute_result"
    }
   ],
   "source": [
    "full_check(test_board)"
   ]
  },
  {
   "cell_type": "code",
   "execution_count": 12,
   "id": "a38ac1ac",
   "metadata": {},
   "outputs": [],
   "source": [
    "def player_choice(board):\n",
    "    choi= 0\n",
    "    while choi not in range(1,10) or space_check(board,choi) == False:\n",
    "        choi= int(input('Please enter a number'))\n",
    "        if choi not in range(1,10):\n",
    "            print('You can only enter number from 1 to 9!')\n",
    "        elif space_check(board,choi) == False:\n",
    "            print('This spot is already taken!')\n",
    "    return choi\n",
    "        "
   ]
  },
  {
   "cell_type": "code",
   "execution_count": 13,
   "id": "215436a0",
   "metadata": {},
   "outputs": [],
   "source": [
    "def play_again():\n",
    "    decision = \"string\"\n",
    "    while decision not in (\"YES\",\"NO\"):\n",
    "        decision = input(\"Do you want to play again? Write YES or NO\").upper()\n",
    "        if decision == \"YES\": \n",
    "            print('Game is restarting')\n",
    "            return True\n",
    "        elif decision == \"NO\":\n",
    "            print('Thank you for playing!')\n",
    "            return False\n",
    "        else:\n",
    "            print('Wrong key, try again!')"
   ]
  },
  {
   "cell_type": "code",
   "execution_count": null,
   "id": "b8e5491c",
   "metadata": {},
   "outputs": [
    {
     "name": "stdout",
     "output_type": "stream",
     "text": [
      "TIC TAC TOE GAME!\n"
     ]
    }
   ],
   "source": [
    "from IPython.display import clear_output\n",
    "\n",
    "print('TIC TAC TOE GAME!')\n",
    "\n",
    "while True:\n",
    "    MyBoard = [' '] * 10\n",
    "    player1_choice, player2_choice = game_choice()\n",
    "    turn = whos_first()\n",
    "    if start_game() == True:\n",
    "        game_on = True\n",
    "    while game_on:\n",
    "        if turn == \"Player1\":\n",
    "            display_board(MyBoard)\n",
    "            position = player_choice(MyBoard)\n",
    "            marker_place(MyBoard, player1_choice, position)\n",
    "            \n",
    "            if win_check(MyBoard, player1_choice):\n",
    "                display(MyBoard)\n",
    "                print('Player 1 won, congratulations!')\n",
    "                game_on = False\n",
    "            else:\n",
    "                if full_check(MyBoard):\n",
    "                    display_board(MyBoard)\n",
    "                    print('The game is a draw!')\n",
    "                    break\n",
    "                else:\n",
    "                    turn = 'Player2'\n",
    "        else:\n",
    "            display_board(MyBoard)\n",
    "            position = player_choice(MyBoard)\n",
    "            marker_place(MyBoard, player2_choice, position)\n",
    "            \n",
    "            if win_check(MyBoard, player2_choice):\n",
    "                display(MyBoard)\n",
    "                print('Player 2 won, congratulations!')\n",
    "                game_on = False\n",
    "            else:\n",
    "                if full_check(MyBoard):\n",
    "                    display_board(MyBoard)\n",
    "                    print('The game ends up with a draw!')\n",
    "                    break\n",
    "                else:\n",
    "                    turn = 'Player1'\n",
    "    if play_again() == False:\n",
    "        break\n",
    "    else:\n",
    "        clear_output()\n",
    "        \n",
    "    \n"
   ]
  },
  {
   "cell_type": "code",
   "execution_count": null,
   "id": "e6d14466",
   "metadata": {},
   "outputs": [],
   "source": []
  }
 ],
 "metadata": {
  "kernelspec": {
   "display_name": "Python 3 (ipykernel)",
   "language": "python",
   "name": "python3"
  },
  "language_info": {
   "codemirror_mode": {
    "name": "ipython",
    "version": 3
   },
   "file_extension": ".py",
   "mimetype": "text/x-python",
   "name": "python",
   "nbconvert_exporter": "python",
   "pygments_lexer": "ipython3",
   "version": "3.9.7"
  }
 },
 "nbformat": 4,
 "nbformat_minor": 5
}
