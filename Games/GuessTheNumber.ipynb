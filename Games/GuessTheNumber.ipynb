{
 "cells": [
  {
   "cell_type": "code",
   "execution_count": null,
   "id": "4f60305c",
   "metadata": {},
   "outputs": [
    {
     "name": "stdout",
     "output_type": "stream",
     "text": [
      "Gra sie zaczyna, wylosowano jedna liczbę od 0 do 100 spróbuj zgadnąć jaka to liczba żeby wygrać!\n",
      "Wpisz liczbę od 1 do 100 0\n",
      "Liczba poza skalą\n"
     ]
    }
   ],
   "source": [
    "import random\n",
    "op = random.randint(1, 101)\n",
    "listazgad = [0]\n",
    "print(\"Gra sie zaczyna, wylosowano jedna liczbę od 1 do 100 spróbuj zgadnąć jaka to liczba żeby wygrać!\")\n",
    "while True:\n",
    "    zgad = int(input(\"Wpisz liczbę od 1 do 100 \"))\n",
    "    if zgad <= 0 or zgad > 100:\n",
    "        print(\"Liczba poza skalą\")\n",
    "        continue\n",
    "    if zgad == op:\n",
    "        print(f'Udało ci się, poprawna liczba to {op}')\n",
    "        break\n",
    "        \n",
    "    listazgad.append(zgad)\n",
    "\n",
    "    if listazgad[-2]:\n",
    "        if abs(zgad-op) < abs(listazgad[-2]-op):\n",
    "            print(\"Cieplej\")\n",
    "        else:\n",
    "            print(\"Zimniej\")\n",
    "    else:\n",
    "        if abs(zgad-op) <= 10:\n",
    "            print(\"Gorąco\")\n",
    "        else:\n",
    "            print(\"Lodowato\")"
   ]
  }
 ],
 "metadata": {
  "kernelspec": {
   "display_name": "Python 3 (ipykernel)",
   "language": "python",
   "name": "python3"
  },
  "language_info": {
   "codemirror_mode": {
    "name": "ipython",
    "version": 3
   },
   "file_extension": ".py",
   "mimetype": "text/x-python",
   "name": "python",
   "nbconvert_exporter": "python",
   "pygments_lexer": "ipython3",
   "version": "3.9.7"
  }
 },
 "nbformat": 4,
 "nbformat_minor": 5
}
