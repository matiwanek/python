{
 "cells": [
  {
   "cell_type": "code",
   "execution_count": 37,
   "id": "650ff353",
   "metadata": {},
   "outputs": [],
   "source": [
    "class Account:\n",
    "    \n",
    "    \n",
    "    def __init__(self,owner,balance):\n",
    "        self.owner=owner\n",
    "        self.balance=balance\n",
    "        print('Account Owner:{}'.format(self.owner))\n",
    "        print('Account Balance:{}'.format(self.balance))\n",
    "        \n",
    "    def deposit(self, amount):\n",
    "        self.amount=amount\n",
    "        self.balance = self.balance+self.amount\n",
    "        print('You added {} to your balance!'.format(self.amount))\n",
    "    def withdraw(self, minamount):\n",
    "        self.minamount=minamount\n",
    "        if self.balance - self.minamount < 0:\n",
    "            print('You dont have enought money on your balance!')\n",
    "        else:\n",
    "            self.balance = self.balance-self.minamount\n",
    "            print('You withdrawn {} from your balance!'.format(self.minamount))\n",
    "    def currbalance(self):\n",
    "        print('{} your current balance is {}'.format(self.owner, self.balance))\n",
    "        "
   ]
  },
  {
   "cell_type": "code",
   "execution_count": 39,
   "id": "70b73584",
   "metadata": {},
   "outputs": [
    {
     "name": "stdout",
     "output_type": "stream",
     "text": [
      "You added 600 to your balance!\n"
     ]
    }
   ],
   "source": [
    "acc2.deposit(600)"
   ]
  },
  {
   "cell_type": "code",
   "execution_count": 31,
   "id": "a2ce31f1",
   "metadata": {},
   "outputs": [
    {
     "data": {
      "text/plain": [
       "1600"
      ]
     },
     "execution_count": 31,
     "metadata": {},
     "output_type": "execute_result"
    }
   ],
   "source": [
    "acc2.balance"
   ]
  },
  {
   "cell_type": "code",
   "execution_count": 40,
   "id": "633833df",
   "metadata": {},
   "outputs": [
    {
     "name": "stdout",
     "output_type": "stream",
     "text": [
      "You withdrawn 400 from your balance!\n"
     ]
    }
   ],
   "source": [
    "acc2.withdraw(400)"
   ]
  },
  {
   "cell_type": "code",
   "execution_count": 34,
   "id": "3eaebeba",
   "metadata": {},
   "outputs": [
    {
     "data": {
      "text/plain": [
       "1200"
      ]
     },
     "execution_count": 34,
     "metadata": {},
     "output_type": "execute_result"
    }
   ],
   "source": [
    "acc2.balance"
   ]
  },
  {
   "cell_type": "code",
   "execution_count": 35,
   "id": "c38cd183",
   "metadata": {},
   "outputs": [
    {
     "name": "stdout",
     "output_type": "stream",
     "text": [
      "You dont have enought money on your balance!\n"
     ]
    }
   ],
   "source": [
    "acc2.withdraw(1300)"
   ]
  },
  {
   "cell_type": "code",
   "execution_count": 25,
   "id": "a3c922d5",
   "metadata": {},
   "outputs": [
    {
     "data": {
      "text/plain": [
       "500"
      ]
     },
     "execution_count": 25,
     "metadata": {},
     "output_type": "execute_result"
    }
   ],
   "source": [
    "acc1.balance"
   ]
  },
  {
   "cell_type": "code",
   "execution_count": 26,
   "id": "8c030134",
   "metadata": {},
   "outputs": [
    {
     "name": "stdout",
     "output_type": "stream",
     "text": [
      "You withdrawn 499 from your balance!\n"
     ]
    }
   ],
   "source": [
    "acc1.withdraw(499)"
   ]
  },
  {
   "cell_type": "code",
   "execution_count": 27,
   "id": "d37fd16c",
   "metadata": {},
   "outputs": [
    {
     "data": {
      "text/plain": [
       "1"
      ]
     },
     "execution_count": 27,
     "metadata": {},
     "output_type": "execute_result"
    }
   ],
   "source": [
    "acc1.balance"
   ]
  },
  {
   "cell_type": "code",
   "execution_count": 41,
   "id": "92174d7b",
   "metadata": {},
   "outputs": [
    {
     "name": "stdout",
     "output_type": "stream",
     "text": [
      "Sylwia your current balance is 1200\n"
     ]
    }
   ],
   "source": [
    "acc2.currbalance()"
   ]
  },
  {
   "cell_type": "code",
   "execution_count": null,
   "id": "fdb0490c",
   "metadata": {},
   "outputs": [],
   "source": []
  }
 ],
 "metadata": {
  "kernelspec": {
   "display_name": "Python 3 (ipykernel)",
   "language": "python",
   "name": "python3"
  },
  "language_info": {
   "codemirror_mode": {
    "name": "ipython",
    "version": 3
   },
   "file_extension": ".py",
   "mimetype": "text/x-python",
   "name": "python",
   "nbconvert_exporter": "python",
   "pygments_lexer": "ipython3",
   "version": "3.9.7"
  }
 },
 "nbformat": 4,
 "nbformat_minor": 5
}
